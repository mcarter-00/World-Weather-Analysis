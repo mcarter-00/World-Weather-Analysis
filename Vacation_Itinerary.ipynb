{
 "cells": [
  {
   "cell_type": "code",
   "execution_count": 57,
   "metadata": {},
   "outputs": [],
   "source": [
    "# Import dependencies\n",
    "import pandas as pd\n",
    "import gmaps\n",
    "import gmaps.datasets\n",
    "import requests\n",
    "\n",
    "from config import g_key\n",
    "\n",
    "# Configure gmaps to use my Google API Key\n",
    "gmaps.configure(api_key=g_key)"
   ]
  },
  {
   "cell_type": "code",
   "execution_count": 2,
   "metadata": {},
   "outputs": [
    {
     "data": {
      "text/html": [
       "<div>\n",
       "<style scoped>\n",
       "    .dataframe tbody tr th:only-of-type {\n",
       "        vertical-align: middle;\n",
       "    }\n",
       "\n",
       "    .dataframe tbody tr th {\n",
       "        vertical-align: top;\n",
       "    }\n",
       "\n",
       "    .dataframe thead th {\n",
       "        text-align: right;\n",
       "    }\n",
       "</style>\n",
       "<table border=\"1\" class=\"dataframe\">\n",
       "  <thead>\n",
       "    <tr style=\"text-align: right;\">\n",
       "      <th></th>\n",
       "      <th>City_ID</th>\n",
       "      <th>City</th>\n",
       "      <th>Country</th>\n",
       "      <th>Max Temp</th>\n",
       "      <th>Current Description</th>\n",
       "      <th>Lat</th>\n",
       "      <th>Lng</th>\n",
       "      <th>Hotel Name</th>\n",
       "    </tr>\n",
       "  </thead>\n",
       "  <tbody>\n",
       "    <tr>\n",
       "      <td>0</td>\n",
       "      <td>1</td>\n",
       "      <td>Sao Filipe</td>\n",
       "      <td>CV</td>\n",
       "      <td>68.52</td>\n",
       "      <td>overcast clouds</td>\n",
       "      <td>14.90</td>\n",
       "      <td>-24.50</td>\n",
       "      <td>Tortuga B&amp;B</td>\n",
       "    </tr>\n",
       "    <tr>\n",
       "      <td>1</td>\n",
       "      <td>3</td>\n",
       "      <td>Bahir Dar</td>\n",
       "      <td>ET</td>\n",
       "      <td>75.31</td>\n",
       "      <td>scattered clouds</td>\n",
       "      <td>11.59</td>\n",
       "      <td>37.39</td>\n",
       "      <td>Delano Hotel, Bahir Dar</td>\n",
       "    </tr>\n",
       "    <tr>\n",
       "      <td>2</td>\n",
       "      <td>7</td>\n",
       "      <td>Matara</td>\n",
       "      <td>LK</td>\n",
       "      <td>75.51</td>\n",
       "      <td>overcast clouds</td>\n",
       "      <td>5.95</td>\n",
       "      <td>80.54</td>\n",
       "      <td>Amaloh Boutique Resort</td>\n",
       "    </tr>\n",
       "    <tr>\n",
       "      <td>3</td>\n",
       "      <td>9</td>\n",
       "      <td>Hilo</td>\n",
       "      <td>US</td>\n",
       "      <td>70.00</td>\n",
       "      <td>scattered clouds</td>\n",
       "      <td>19.73</td>\n",
       "      <td>-155.09</td>\n",
       "      <td>Hilo Hawaiian Hotel</td>\n",
       "    </tr>\n",
       "    <tr>\n",
       "      <td>4</td>\n",
       "      <td>10</td>\n",
       "      <td>Vaini</td>\n",
       "      <td>TO</td>\n",
       "      <td>77.00</td>\n",
       "      <td>broken clouds</td>\n",
       "      <td>-21.20</td>\n",
       "      <td>-175.20</td>\n",
       "      <td>Keleti Beach Resort</td>\n",
       "    </tr>\n",
       "    <tr>\n",
       "      <td>5</td>\n",
       "      <td>17</td>\n",
       "      <td>Saldanha</td>\n",
       "      <td>ZA</td>\n",
       "      <td>78.80</td>\n",
       "      <td>clear sky</td>\n",
       "      <td>-33.01</td>\n",
       "      <td>17.94</td>\n",
       "      <td>Blue Bay Lodge</td>\n",
       "    </tr>\n",
       "    <tr>\n",
       "      <td>6</td>\n",
       "      <td>25</td>\n",
       "      <td>Kapaa</td>\n",
       "      <td>US</td>\n",
       "      <td>69.80</td>\n",
       "      <td>clear sky</td>\n",
       "      <td>22.08</td>\n",
       "      <td>-159.32</td>\n",
       "      <td>Sheraton Kauai Resort at Coconut Beach</td>\n",
       "    </tr>\n",
       "    <tr>\n",
       "      <td>7</td>\n",
       "      <td>33</td>\n",
       "      <td>Port Elizabeth</td>\n",
       "      <td>ZA</td>\n",
       "      <td>62.60</td>\n",
       "      <td>clear sky</td>\n",
       "      <td>-33.92</td>\n",
       "      <td>25.57</td>\n",
       "      <td>39 On Nile Guest House</td>\n",
       "    </tr>\n",
       "    <tr>\n",
       "      <td>8</td>\n",
       "      <td>35</td>\n",
       "      <td>Saint-Philippe</td>\n",
       "      <td>RE</td>\n",
       "      <td>77.00</td>\n",
       "      <td>clear sky</td>\n",
       "      <td>-21.36</td>\n",
       "      <td>55.77</td>\n",
       "      <td>Chambres d'hôte \"La Trinité\"</td>\n",
       "    </tr>\n",
       "    <tr>\n",
       "      <td>9</td>\n",
       "      <td>36</td>\n",
       "      <td>Rio Gallegos</td>\n",
       "      <td>AR</td>\n",
       "      <td>62.60</td>\n",
       "      <td>scattered clouds</td>\n",
       "      <td>-51.62</td>\n",
       "      <td>-69.22</td>\n",
       "      <td>Hotel Santa Cruz</td>\n",
       "    </tr>\n",
       "  </tbody>\n",
       "</table>\n",
       "</div>"
      ],
      "text/plain": [
       "   City_ID            City Country  Max Temp Current Description    Lat  \\\n",
       "0        1      Sao Filipe      CV     68.52     overcast clouds  14.90   \n",
       "1        3       Bahir Dar      ET     75.31    scattered clouds  11.59   \n",
       "2        7          Matara      LK     75.51     overcast clouds   5.95   \n",
       "3        9            Hilo      US     70.00    scattered clouds  19.73   \n",
       "4       10           Vaini      TO     77.00       broken clouds -21.20   \n",
       "5       17        Saldanha      ZA     78.80           clear sky -33.01   \n",
       "6       25           Kapaa      US     69.80           clear sky  22.08   \n",
       "7       33  Port Elizabeth      ZA     62.60           clear sky -33.92   \n",
       "8       35  Saint-Philippe      RE     77.00           clear sky -21.36   \n",
       "9       36    Rio Gallegos      AR     62.60    scattered clouds -51.62   \n",
       "\n",
       "      Lng                              Hotel Name  \n",
       "0  -24.50                             Tortuga B&B  \n",
       "1   37.39                 Delano Hotel, Bahir Dar  \n",
       "2   80.54                  Amaloh Boutique Resort  \n",
       "3 -155.09                     Hilo Hawaiian Hotel  \n",
       "4 -175.20                     Keleti Beach Resort  \n",
       "5   17.94                          Blue Bay Lodge  \n",
       "6 -159.32  Sheraton Kauai Resort at Coconut Beach  \n",
       "7   25.57                  39 On Nile Guest House  \n",
       "8   55.77            Chambres d'hôte \"La Trinité\"  \n",
       "9  -69.22                        Hotel Santa Cruz  "
      ]
     },
     "execution_count": 2,
     "metadata": {},
     "output_type": "execute_result"
    }
   ],
   "source": [
    "# Open File\n",
    "vacation_df = pd.read_csv(\"challenge_data/WeatherPy_vacation.csv\")\n",
    "vacation_df.head(10)"
   ]
  },
  {
   "cell_type": "markdown",
   "metadata": {},
   "source": [
    "From the vacation search map, choose at least four cities in close proximity on your map that are on the same continent that a customer might travel to, and then create a directions layer map.\n",
    "* Sechura, PE\n",
    "* Pimentel, PE\n",
    "* Chicama, PE\n",
    "* Pisco, PE"
   ]
  },
  {
   "cell_type": "code",
   "execution_count": 12,
   "metadata": {},
   "outputs": [],
   "source": [
    "# Filter the DataFrame for each city you want to go to and create separate DataFrames for each city.\n",
    "sechura_city_df = vacation_df.loc[vacation_df[\"City\"] == \"Sechura\"]\n",
    "pimentel_city_df = vacation_df.loc[vacation_df[\"City\"] == \"Pimentel\"]\n",
    "chicama_city_df = vacation_df.loc[vacation_df[\"City\"] == \"Chicama\"]\n",
    "pisco_city_df = vacation_df.loc[vacation_df[\"City\"] == \"Pisco\"]"
   ]
  },
  {
   "cell_type": "code",
   "execution_count": 66,
   "metadata": {},
   "outputs": [],
   "source": [
    "# Use the list indexing and Pandas methods to get the latitude-longitude pairs for each city DataFrame as tuples\n",
    "sechura = tuple(sechura_city_df[[\"Lat\", \"Lng\"]].values[0])\n",
    "pimentel = tuple(pimentel_city_df[[\"Lat\", \"Lng\"]].values[0])\n",
    "chichama = tuple(chicama_city_df[[\"Lat\", \"Lng\"]].values[0])\n",
    "pisco = tuple(pisco_city_df[[\"Lat\", \"Lng\"]].values[0])"
   ]
  },
  {
   "cell_type": "code",
   "execution_count": 68,
   "metadata": {},
   "outputs": [
    {
     "data": {
      "application/vnd.jupyter.widget-view+json": {
       "model_id": "",
       "version_major": 2,
       "version_minor": 0
      },
      "text/plain": [
       "Figure(layout=FigureLayout(height='420px'))"
      ]
     },
     "metadata": {},
     "output_type": "display_data"
    }
   ],
   "source": [
    "# Draw routes based on the Google maps directions service\n",
    "fig = gmaps.figure()\n",
    "sechura2pimentel = gmaps.directions_layer(sechura, pimentel)\n",
    "fig.add_layer(sechura2pimentel)\n",
    "fig"
   ]
  },
  {
   "cell_type": "code",
   "execution_count": 72,
   "metadata": {},
   "outputs": [
    {
     "data": {
      "application/vnd.jupyter.widget-view+json": {
       "model_id": "c4834af846df415b93126ac1b56cdca7",
       "version_major": 2,
       "version_minor": 0
      },
      "text/plain": [
       "Figure(layout=FigureLayout(height='420px'))"
      ]
     },
     "metadata": {},
     "output_type": "display_data"
    }
   ],
   "source": [
    "# Draw routes based on the Google maps directions service\n",
    "fig = gmaps.figure()\n",
    "sechura2chichama_via_pimentel = gmaps.directions_layer(\n",
    "        sechura, chichama, waypoints=[pimentel],\n",
    "        travel_mode='DRIVING')\n",
    "fig.add_layer(sechura2chichama_via_pimentel)\n",
    "fig"
   ]
  },
  {
   "cell_type": "code",
   "execution_count": 73,
   "metadata": {},
   "outputs": [
    {
     "data": {
      "application/vnd.jupyter.widget-view+json": {
       "model_id": "ca97dd540e994da8a3372b7f102f5845",
       "version_major": 2,
       "version_minor": 0
      },
      "text/plain": [
       "Figure(layout=FigureLayout(height='420px'))"
      ]
     },
     "metadata": {},
     "output_type": "display_data"
    }
   ],
   "source": [
    "# Draw routes based on the Google maps directions service\n",
    "fig = gmaps.figure()\n",
    "sechura2pisco_via_pimentel_chichama = gmaps.directions_layer(\n",
    "        sechura, pisco, waypoints=[pimentel, chichama],\n",
    "        travel_mode='DRIVING')\n",
    "fig.add_layer(sechura2pisco_via_pimentel_chichama)\n",
    "fig"
   ]
  },
  {
   "cell_type": "code",
   "execution_count": null,
   "metadata": {},
   "outputs": [],
   "source": []
  },
  {
   "cell_type": "code",
   "execution_count": 65,
   "metadata": {},
   "outputs": [
    {
     "data": {
      "text/plain": [
       "(-5.56, -80.82)"
      ]
     },
     "execution_count": 65,
     "metadata": {},
     "output_type": "execute_result"
    }
   ],
   "source": [
    "tuple(sechura_city_df[[\"Lat\", \"Lng\"]].values[0])"
   ]
  },
  {
   "cell_type": "code",
   "execution_count": 50,
   "metadata": {},
   "outputs": [
    {
     "data": {
      "text/plain": [
       "(-6.84, -79.93)"
      ]
     },
     "execution_count": 50,
     "metadata": {},
     "output_type": "execute_result"
    }
   ],
   "source": [
    "tuple(pimentel_city_df[[\"Lat\", \"Lng\"]].values[0])"
   ]
  },
  {
   "cell_type": "code",
   "execution_count": 51,
   "metadata": {},
   "outputs": [
    {
     "data": {
      "text/plain": [
       "(-7.84, -79.15)"
      ]
     },
     "execution_count": 51,
     "metadata": {},
     "output_type": "execute_result"
    }
   ],
   "source": [
    "tuple(chicama_city_df[[\"Lat\", \"Lng\"]].values[0])"
   ]
  },
  {
   "cell_type": "code",
   "execution_count": 52,
   "metadata": {},
   "outputs": [
    {
     "data": {
      "text/plain": [
       "(-13.7, -76.22)"
      ]
     },
     "execution_count": 52,
     "metadata": {},
     "output_type": "execute_result"
    }
   ],
   "source": [
    "tuple(pisco_city_df[[\"Lat\", \"Lng\"]].values[0])"
   ]
  },
  {
   "cell_type": "code",
   "execution_count": 64,
   "metadata": {},
   "outputs": [
    {
     "data": {
      "text/plain": [
       "(-13.7, -76.22)"
      ]
     },
     "execution_count": 64,
     "metadata": {},
     "output_type": "execute_result"
    }
   ],
   "source": []
  },
  {
   "cell_type": "code",
   "execution_count": 47,
   "metadata": {},
   "outputs": [
    {
     "data": {
      "text/plain": [
       "array([[334, 'Sechura', 'PE', 75.51, 'scattered clouds', -5.56, -80.82,\n",
       "        'Hospedaje Costa Bella']], dtype=object)"
      ]
     },
     "execution_count": 47,
     "metadata": {},
     "output_type": "execute_result"
    }
   ],
   "source": [
    "#DataFrame.to_numpy(self, dtype=None, copy=False) → numpy.ndarray\n",
    "sechura_city_df.to_numpy()"
   ]
  },
  {
   "cell_type": "code",
   "execution_count": null,
   "metadata": {},
   "outputs": [],
   "source": []
  }
 ],
 "metadata": {
  "kernelspec": {
   "display_name": "PythonData",
   "language": "python",
   "name": "pythondata"
  },
  "language_info": {
   "codemirror_mode": {
    "name": "ipython",
    "version": 3
   },
   "file_extension": ".py",
   "mimetype": "text/x-python",
   "name": "python",
   "nbconvert_exporter": "python",
   "pygments_lexer": "ipython3",
   "version": "3.7.4"
  }
 },
 "nbformat": 4,
 "nbformat_minor": 4
}
